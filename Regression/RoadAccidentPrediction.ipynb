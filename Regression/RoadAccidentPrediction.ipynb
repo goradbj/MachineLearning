{
 "cells": [
  {
   "cell_type": "markdown",
   "metadata": {},
   "source": [
    "### Import the Libraries"
   ]
  },
  {
   "cell_type": "code",
   "execution_count": 1,
   "metadata": {},
   "outputs": [],
   "source": [
    "import numpy as np\n",
    "import pandas as pd\n",
    "from matplotlib import pyplot as plt\n",
    "from sklearn import linear_model"
   ]
  },
  {
   "cell_type": "markdown",
   "metadata": {},
   "source": [
    "### Load the dataset"
   ]
  },
  {
   "cell_type": "code",
   "execution_count": 2,
   "metadata": {},
   "outputs": [],
   "source": [
    "df=pd.read_csv(\"D:\\\\BJG Study Material\\\\Resource Person\\\\2020-21\\\\rait\\\\How Real Time Predictions are done with Machine Learning\\\\programs\\\\datasets\\\\Road-Accidents-2018-Annexure-1.csv\")"
   ]
  },
  {
   "cell_type": "markdown",
   "metadata": {},
   "source": [
    "### Exploratory Data Analysis and Data Preprocessing"
   ]
  },
  {
   "cell_type": "markdown",
   "metadata": {},
   "source": [
    "#### Check few records"
   ]
  },
  {
   "cell_type": "code",
   "execution_count": 3,
   "metadata": {
    "scrolled": true
   },
   "outputs": [
    {
     "data": {
      "text/html": [
       "<div>\n",
       "<style scoped>\n",
       "    .dataframe tbody tr th:only-of-type {\n",
       "        vertical-align: middle;\n",
       "    }\n",
       "\n",
       "    .dataframe tbody tr th {\n",
       "        vertical-align: top;\n",
       "    }\n",
       "\n",
       "    .dataframe thead th {\n",
       "        text-align: right;\n",
       "    }\n",
       "</style>\n",
       "<table border=\"1\" class=\"dataframe\">\n",
       "  <thead>\n",
       "    <tr style=\"text-align: right;\">\n",
       "      <th></th>\n",
       "      <th>Years</th>\n",
       "      <th>Total Number of Road Accidents (in numbers)</th>\n",
       "      <th>Total Number of Persons Killed (in numbers)</th>\n",
       "      <th>Total Number of Persons Injured (in numbers)</th>\n",
       "      <th>Population of India (in thousands)</th>\n",
       "      <th>Total Number of Registered Motor Vehicles (in thousands)</th>\n",
       "      <th>Road Length (in kms)</th>\n",
       "      <th>Number of Accidents per Lakh Population</th>\n",
       "      <th>Number of Accidents per Ten Thousand Vehicles</th>\n",
       "      <th>Number of Accidents Per Ten Thousand Kms of Roads</th>\n",
       "      <th>Number of Persons Killed Per Lakh Population</th>\n",
       "      <th>Number of Persons Killed Per Ten Thousand Vehicles</th>\n",
       "      <th>Number of Persons Killed per Ten Thousand Kms of Roads</th>\n",
       "      <th>Number of Persons Injured per Lakh Population</th>\n",
       "      <th>Number of Persons Injured Per Ten Thousand Vehicles</th>\n",
       "      <th>Number of Persons Injured Per Ten Thousand Kms of Roads</th>\n",
       "    </tr>\n",
       "  </thead>\n",
       "  <tbody>\n",
       "    <tr>\n",
       "      <th>0</th>\n",
       "      <td>1970</td>\n",
       "      <td>114100.0</td>\n",
       "      <td>14500.0</td>\n",
       "      <td>70100.0</td>\n",
       "      <td>539000.0</td>\n",
       "      <td>1401.0</td>\n",
       "      <td>1188728.0</td>\n",
       "      <td>21.2</td>\n",
       "      <td>814.4</td>\n",
       "      <td>959.8</td>\n",
       "      <td>2.7</td>\n",
       "      <td>103.5</td>\n",
       "      <td>122.0</td>\n",
       "      <td>13.0</td>\n",
       "      <td>500.4</td>\n",
       "      <td>589.7</td>\n",
       "    </tr>\n",
       "    <tr>\n",
       "      <th>1</th>\n",
       "      <td>1980</td>\n",
       "      <td>153200.0</td>\n",
       "      <td>24000.0</td>\n",
       "      <td>109100.0</td>\n",
       "      <td>673000.0</td>\n",
       "      <td>4521.0</td>\n",
       "      <td>1491873.0</td>\n",
       "      <td>22.8</td>\n",
       "      <td>338.9</td>\n",
       "      <td>1026.9</td>\n",
       "      <td>3.6</td>\n",
       "      <td>53.1</td>\n",
       "      <td>160.9</td>\n",
       "      <td>16.2</td>\n",
       "      <td>241.3</td>\n",
       "      <td>731.3</td>\n",
       "    </tr>\n",
       "    <tr>\n",
       "      <th>2</th>\n",
       "      <td>1990</td>\n",
       "      <td>282600.0</td>\n",
       "      <td>54100.0</td>\n",
       "      <td>244100.0</td>\n",
       "      <td>835000.0</td>\n",
       "      <td>19152.0</td>\n",
       "      <td>1983867.0</td>\n",
       "      <td>33.8</td>\n",
       "      <td>147.6</td>\n",
       "      <td>1424.5</td>\n",
       "      <td>6.5</td>\n",
       "      <td>28.2</td>\n",
       "      <td>272.7</td>\n",
       "      <td>29.2</td>\n",
       "      <td>127.5</td>\n",
       "      <td>1230.4</td>\n",
       "    </tr>\n",
       "    <tr>\n",
       "      <th>3</th>\n",
       "      <td>1994</td>\n",
       "      <td>325864.0</td>\n",
       "      <td>64463.0</td>\n",
       "      <td>311500.0</td>\n",
       "      <td>904000.0</td>\n",
       "      <td>27660.0</td>\n",
       "      <td>2890950.0</td>\n",
       "      <td>36.0</td>\n",
       "      <td>117.8</td>\n",
       "      <td>1127.2</td>\n",
       "      <td>7.1</td>\n",
       "      <td>23.3</td>\n",
       "      <td>223.0</td>\n",
       "      <td>34.5</td>\n",
       "      <td>112.6</td>\n",
       "      <td>1077.5</td>\n",
       "    </tr>\n",
       "    <tr>\n",
       "      <th>4</th>\n",
       "      <td>1995</td>\n",
       "      <td>351999.0</td>\n",
       "      <td>70781.0</td>\n",
       "      <td>323200.0</td>\n",
       "      <td>924359.0</td>\n",
       "      <td>30295.0</td>\n",
       "      <td>2975035.0</td>\n",
       "      <td>38.1</td>\n",
       "      <td>116.2</td>\n",
       "      <td>1183.2</td>\n",
       "      <td>7.7</td>\n",
       "      <td>23.4</td>\n",
       "      <td>237.9</td>\n",
       "      <td>35.0</td>\n",
       "      <td>106.7</td>\n",
       "      <td>1086.4</td>\n",
       "    </tr>\n",
       "  </tbody>\n",
       "</table>\n",
       "</div>"
      ],
      "text/plain": [
       "  Years  Total Number of Road Accidents (in numbers)  \\\n",
       "0  1970                                     114100.0   \n",
       "1  1980                                     153200.0   \n",
       "2  1990                                     282600.0   \n",
       "3  1994                                     325864.0   \n",
       "4  1995                                     351999.0   \n",
       "\n",
       "   Total Number of Persons Killed (in numbers)  \\\n",
       "0                                      14500.0   \n",
       "1                                      24000.0   \n",
       "2                                      54100.0   \n",
       "3                                      64463.0   \n",
       "4                                      70781.0   \n",
       "\n",
       "   Total Number of Persons Injured (in numbers)  \\\n",
       "0                                       70100.0   \n",
       "1                                      109100.0   \n",
       "2                                      244100.0   \n",
       "3                                      311500.0   \n",
       "4                                      323200.0   \n",
       "\n",
       "   Population of India (in thousands)  \\\n",
       "0                            539000.0   \n",
       "1                            673000.0   \n",
       "2                            835000.0   \n",
       "3                            904000.0   \n",
       "4                            924359.0   \n",
       "\n",
       "   Total Number of Registered Motor Vehicles (in thousands)  \\\n",
       "0                                             1401.0          \n",
       "1                                             4521.0          \n",
       "2                                            19152.0          \n",
       "3                                            27660.0          \n",
       "4                                            30295.0          \n",
       "\n",
       "   Road Length (in kms)  Number of Accidents per Lakh Population  \\\n",
       "0             1188728.0                                     21.2   \n",
       "1             1491873.0                                     22.8   \n",
       "2             1983867.0                                     33.8   \n",
       "3             2890950.0                                     36.0   \n",
       "4             2975035.0                                     38.1   \n",
       "\n",
       "   Number of Accidents per Ten Thousand Vehicles  \\\n",
       "0                                          814.4   \n",
       "1                                          338.9   \n",
       "2                                          147.6   \n",
       "3                                          117.8   \n",
       "4                                          116.2   \n",
       "\n",
       "   Number of Accidents Per Ten Thousand Kms of Roads  \\\n",
       "0                                              959.8   \n",
       "1                                             1026.9   \n",
       "2                                             1424.5   \n",
       "3                                             1127.2   \n",
       "4                                             1183.2   \n",
       "\n",
       "   Number of Persons Killed Per Lakh Population  \\\n",
       "0                                           2.7   \n",
       "1                                           3.6   \n",
       "2                                           6.5   \n",
       "3                                           7.1   \n",
       "4                                           7.7   \n",
       "\n",
       "   Number of Persons Killed Per Ten Thousand Vehicles  \\\n",
       "0                                              103.5    \n",
       "1                                               53.1    \n",
       "2                                               28.2    \n",
       "3                                               23.3    \n",
       "4                                               23.4    \n",
       "\n",
       "   Number of Persons Killed per Ten Thousand Kms of Roads  \\\n",
       "0                                              122.0        \n",
       "1                                              160.9        \n",
       "2                                              272.7        \n",
       "3                                              223.0        \n",
       "4                                              237.9        \n",
       "\n",
       "   Number of Persons Injured per Lakh Population  \\\n",
       "0                                           13.0   \n",
       "1                                           16.2   \n",
       "2                                           29.2   \n",
       "3                                           34.5   \n",
       "4                                           35.0   \n",
       "\n",
       "   Number of Persons Injured Per Ten Thousand Vehicles  \\\n",
       "0                                              500.4     \n",
       "1                                              241.3     \n",
       "2                                              127.5     \n",
       "3                                              112.6     \n",
       "4                                              106.7     \n",
       "\n",
       "   Number of Persons Injured Per Ten Thousand Kms of Roads  \n",
       "0                                              589.7        \n",
       "1                                              731.3        \n",
       "2                                             1230.4        \n",
       "3                                             1077.5        \n",
       "4                                             1086.4        "
      ]
     },
     "execution_count": 3,
     "metadata": {},
     "output_type": "execute_result"
    }
   ],
   "source": [
    "df.head()"
   ]
  },
  {
   "cell_type": "markdown",
   "metadata": {},
   "source": [
    "#### Find out all features / columns"
   ]
  },
  {
   "cell_type": "code",
   "execution_count": 4,
   "metadata": {
    "scrolled": true
   },
   "outputs": [
    {
     "data": {
      "text/plain": [
       "Index(['Years', 'Total Number of Road Accidents (in numbers)',\n",
       "       'Total Number of Persons Killed (in numbers)',\n",
       "       'Total Number of Persons Injured (in numbers)',\n",
       "       'Population of India (in thousands)',\n",
       "       'Total Number of Registered Motor Vehicles (in thousands)',\n",
       "       'Road Length (in kms)', 'Number of Accidents per Lakh Population',\n",
       "       'Number of Accidents per Ten Thousand Vehicles',\n",
       "       'Number of Accidents Per Ten Thousand Kms of Roads',\n",
       "       'Number of Persons Killed Per Lakh Population',\n",
       "       'Number of Persons Killed Per Ten Thousand Vehicles',\n",
       "       'Number of Persons Killed per Ten Thousand Kms of Roads',\n",
       "       'Number of Persons Injured per Lakh Population',\n",
       "       'Number of Persons Injured Per Ten Thousand Vehicles',\n",
       "       'Number of Persons Injured Per Ten Thousand Kms of Roads'],\n",
       "      dtype='object')"
      ]
     },
     "execution_count": 4,
     "metadata": {},
     "output_type": "execute_result"
    }
   ],
   "source": [
    "df.columns"
   ]
  },
  {
   "cell_type": "code",
   "execution_count": 5,
   "metadata": {},
   "outputs": [
    {
     "data": {
      "text/plain": [
       "(29, 16)"
      ]
     },
     "execution_count": 5,
     "metadata": {},
     "output_type": "execute_result"
    }
   ],
   "source": [
    "df.shape"
   ]
  },
  {
   "cell_type": "code",
   "execution_count": 6,
   "metadata": {},
   "outputs": [
    {
     "data": {
      "text/plain": [
       "464"
      ]
     },
     "execution_count": 6,
     "metadata": {},
     "output_type": "execute_result"
    }
   ],
   "source": [
    "df.size"
   ]
  },
  {
   "cell_type": "markdown",
   "metadata": {},
   "source": [
    "#### Select Only Required Features"
   ]
  },
  {
   "cell_type": "code",
   "execution_count": 7,
   "metadata": {},
   "outputs": [],
   "source": [
    "mdf=df[['Years','Total Number of Persons Killed (in numbers)']]"
   ]
  },
  {
   "cell_type": "code",
   "execution_count": 8,
   "metadata": {},
   "outputs": [
    {
     "data": {
      "text/html": [
       "<div>\n",
       "<style scoped>\n",
       "    .dataframe tbody tr th:only-of-type {\n",
       "        vertical-align: middle;\n",
       "    }\n",
       "\n",
       "    .dataframe tbody tr th {\n",
       "        vertical-align: top;\n",
       "    }\n",
       "\n",
       "    .dataframe thead th {\n",
       "        text-align: right;\n",
       "    }\n",
       "</style>\n",
       "<table border=\"1\" class=\"dataframe\">\n",
       "  <thead>\n",
       "    <tr style=\"text-align: right;\">\n",
       "      <th></th>\n",
       "      <th>Years</th>\n",
       "      <th>Total Number of Persons Killed (in numbers)</th>\n",
       "    </tr>\n",
       "  </thead>\n",
       "  <tbody>\n",
       "    <tr>\n",
       "      <th>0</th>\n",
       "      <td>1970</td>\n",
       "      <td>14500.0</td>\n",
       "    </tr>\n",
       "    <tr>\n",
       "      <th>1</th>\n",
       "      <td>1980</td>\n",
       "      <td>24000.0</td>\n",
       "    </tr>\n",
       "    <tr>\n",
       "      <th>2</th>\n",
       "      <td>1990</td>\n",
       "      <td>54100.0</td>\n",
       "    </tr>\n",
       "    <tr>\n",
       "      <th>3</th>\n",
       "      <td>1994</td>\n",
       "      <td>64463.0</td>\n",
       "    </tr>\n",
       "    <tr>\n",
       "      <th>4</th>\n",
       "      <td>1995</td>\n",
       "      <td>70781.0</td>\n",
       "    </tr>\n",
       "  </tbody>\n",
       "</table>\n",
       "</div>"
      ],
      "text/plain": [
       "  Years  Total Number of Persons Killed (in numbers)\n",
       "0  1970                                      14500.0\n",
       "1  1980                                      24000.0\n",
       "2  1990                                      54100.0\n",
       "3  1994                                      64463.0\n",
       "4  1995                                      70781.0"
      ]
     },
     "execution_count": 8,
     "metadata": {},
     "output_type": "execute_result"
    }
   ],
   "source": [
    "mdf.head()"
   ]
  },
  {
   "cell_type": "code",
   "execution_count": 9,
   "metadata": {},
   "outputs": [
    {
     "data": {
      "text/html": [
       "<div>\n",
       "<style scoped>\n",
       "    .dataframe tbody tr th:only-of-type {\n",
       "        vertical-align: middle;\n",
       "    }\n",
       "\n",
       "    .dataframe tbody tr th {\n",
       "        vertical-align: top;\n",
       "    }\n",
       "\n",
       "    .dataframe thead th {\n",
       "        text-align: right;\n",
       "    }\n",
       "</style>\n",
       "<table border=\"1\" class=\"dataframe\">\n",
       "  <thead>\n",
       "    <tr style=\"text-align: right;\">\n",
       "      <th></th>\n",
       "      <th>Years</th>\n",
       "      <th>Total Number of Persons Killed (in numbers)</th>\n",
       "    </tr>\n",
       "  </thead>\n",
       "  <tbody>\n",
       "    <tr>\n",
       "      <th>24</th>\n",
       "      <td>2015</td>\n",
       "      <td>146133.00</td>\n",
       "    </tr>\n",
       "    <tr>\n",
       "      <th>25</th>\n",
       "      <td>2016</td>\n",
       "      <td>150785.00</td>\n",
       "    </tr>\n",
       "    <tr>\n",
       "      <th>26</th>\n",
       "      <td>2017</td>\n",
       "      <td>147913.00</td>\n",
       "    </tr>\n",
       "    <tr>\n",
       "      <th>27</th>\n",
       "      <td>2018</td>\n",
       "      <td>151417.00</td>\n",
       "    </tr>\n",
       "    <tr>\n",
       "      <th>28</th>\n",
       "      <td>CAGR 2008/2018</td>\n",
       "      <td>2.36</td>\n",
       "    </tr>\n",
       "  </tbody>\n",
       "</table>\n",
       "</div>"
      ],
      "text/plain": [
       "             Years  Total Number of Persons Killed (in numbers)\n",
       "24            2015                                    146133.00\n",
       "25            2016                                    150785.00\n",
       "26            2017                                    147913.00\n",
       "27            2018                                    151417.00\n",
       "28  CAGR 2008/2018                                         2.36"
      ]
     },
     "execution_count": 9,
     "metadata": {},
     "output_type": "execute_result"
    }
   ],
   "source": [
    "mdf.tail()"
   ]
  },
  {
   "cell_type": "code",
   "execution_count": 10,
   "metadata": {},
   "outputs": [],
   "source": [
    "mdf=mdf.drop(df.index[28])"
   ]
  },
  {
   "cell_type": "code",
   "execution_count": 11,
   "metadata": {},
   "outputs": [
    {
     "data": {
      "text/html": [
       "<div>\n",
       "<style scoped>\n",
       "    .dataframe tbody tr th:only-of-type {\n",
       "        vertical-align: middle;\n",
       "    }\n",
       "\n",
       "    .dataframe tbody tr th {\n",
       "        vertical-align: top;\n",
       "    }\n",
       "\n",
       "    .dataframe thead th {\n",
       "        text-align: right;\n",
       "    }\n",
       "</style>\n",
       "<table border=\"1\" class=\"dataframe\">\n",
       "  <thead>\n",
       "    <tr style=\"text-align: right;\">\n",
       "      <th></th>\n",
       "      <th>Years</th>\n",
       "      <th>Total Number of Persons Killed (in numbers)</th>\n",
       "    </tr>\n",
       "  </thead>\n",
       "  <tbody>\n",
       "    <tr>\n",
       "      <th>23</th>\n",
       "      <td>2014</td>\n",
       "      <td>139671.0</td>\n",
       "    </tr>\n",
       "    <tr>\n",
       "      <th>24</th>\n",
       "      <td>2015</td>\n",
       "      <td>146133.0</td>\n",
       "    </tr>\n",
       "    <tr>\n",
       "      <th>25</th>\n",
       "      <td>2016</td>\n",
       "      <td>150785.0</td>\n",
       "    </tr>\n",
       "    <tr>\n",
       "      <th>26</th>\n",
       "      <td>2017</td>\n",
       "      <td>147913.0</td>\n",
       "    </tr>\n",
       "    <tr>\n",
       "      <th>27</th>\n",
       "      <td>2018</td>\n",
       "      <td>151417.0</td>\n",
       "    </tr>\n",
       "  </tbody>\n",
       "</table>\n",
       "</div>"
      ],
      "text/plain": [
       "   Years  Total Number of Persons Killed (in numbers)\n",
       "23  2014                                     139671.0\n",
       "24  2015                                     146133.0\n",
       "25  2016                                     150785.0\n",
       "26  2017                                     147913.0\n",
       "27  2018                                     151417.0"
      ]
     },
     "execution_count": 11,
     "metadata": {},
     "output_type": "execute_result"
    }
   ],
   "source": [
    "mdf.tail()"
   ]
  },
  {
   "cell_type": "markdown",
   "metadata": {},
   "source": [
    "#### Check for Missing Values"
   ]
  },
  {
   "cell_type": "code",
   "execution_count": 12,
   "metadata": {},
   "outputs": [
    {
     "data": {
      "text/plain": [
       "Years                                          0\n",
       "Total Number of Persons Killed (in numbers)    0\n",
       "dtype: int64"
      ]
     },
     "execution_count": 12,
     "metadata": {},
     "output_type": "execute_result"
    }
   ],
   "source": [
    "mdf.isna().sum()"
   ]
  },
  {
   "cell_type": "markdown",
   "metadata": {},
   "source": [
    "#### there is no any categorical variables"
   ]
  },
  {
   "cell_type": "markdown",
   "metadata": {},
   "source": [
    "#### There is only 1 input column, so no need of scaling"
   ]
  },
  {
   "cell_type": "markdown",
   "metadata": {},
   "source": [
    "#### Now visulize the data for Analysis"
   ]
  },
  {
   "cell_type": "code",
   "execution_count": 13,
   "metadata": {},
   "outputs": [
    {
     "data": {
      "text/plain": [
       "Text(0, 0.5, 'No of People Died')"
      ]
     },
     "execution_count": 13,
     "metadata": {},
     "output_type": "execute_result"
    },
    {
     "data": {
      "image/png": "[encoded data removed]",
      "text/plain": [
       "<Figure size 432x288 with 1 Axes>"
      ]
     },
     "metadata": {
      "needs_background": "light"
     },
     "output_type": "display_data"
    }
   ],
   "source": [
    "plt.scatter(mdf.Years,mdf[['Total Number of Persons Killed (in numbers)']])\n",
    "plt.title(\"Years wise people died in Road Accident\")\n",
    "plt.xlabel(\"Years\")\n",
    "plt.ylabel(\"No of People Died\")"
   ]
  },
  {
   "cell_type": "markdown",
   "metadata": {},
   "source": [
    "by observing this graph, we can say there is linear relation between given 2 variables"
   ]
  },
  {
   "cell_type": "markdown",
   "metadata": {},
   "source": [
    "y=mx+c\n",
    "NO of people died = coef * years + intercept"
   ]
  },
  {
   "cell_type": "markdown",
   "metadata": {},
   "source": [
    "#### Now divide dataset into x(input label) and y(output label)"
   ]
  },
  {
   "cell_type": "code",
   "execution_count": 14,
   "metadata": {
    "scrolled": true
   },
   "outputs": [
    {
     "name": "stdout",
     "output_type": "stream",
     "text": [
      "[['1970']\n",
      " ['1980']\n",
      " ['1990']\n",
      " ['1994']\n",
      " ['1995']\n",
      " ['1996']\n",
      " ['1997']\n",
      " ['1998']\n",
      " ['1999']\n",
      " ['2000']\n",
      " ['2001']\n",
      " ['2002']\n",
      " ['2003']\n",
      " ['2004']\n",
      " ['2005']\n",
      " ['2006']\n",
      " ['2007']\n",
      " ['2008']\n",
      " ['2009']\n",
      " ['2010']\n",
      " ['2011']\n",
      " ['2012']\n",
      " ['2013']\n",
      " ['2014']\n",
      " ['2015']\n",
      " ['2016']\n",
      " ['2017']\n",
      " ['2018']]\n",
      "[ 14500.  24000.  54100.  64463.  70781.  74665.  76977.  79919.  81966.\n",
      "  78911.  80888.  84674.  85998.  92618.  94968. 105749. 114444. 119860.\n",
      " 125660. 134513. 142485. 138258. 137572. 139671. 146133. 150785. 147913.\n",
      " 151417.]\n"
     ]
    }
   ],
   "source": [
    "x = mdf.iloc[:,:-1].values\n",
    "y = mdf.iloc[:,-1].values\n",
    "print(x)\n",
    "print(y)"
   ]
  },
  {
   "cell_type": "markdown",
   "metadata": {},
   "source": [
    "#### Divide dataset into train and test"
   ]
  },
  {
   "cell_type": "code",
   "execution_count": 15,
   "metadata": {},
   "outputs": [
    {
     "name": "stdout",
     "output_type": "stream",
     "text": [
      "(28, 1)\n",
      "(28,)\n",
      "(22, 1)\n",
      "(6, 1)\n",
      "(22,)\n",
      "(6,)\n"
     ]
    }
   ],
   "source": [
    "from sklearn.model_selection import train_test_split\n",
    "# the train test split function split x and y into training and test set\n",
    "# by random shuffle pf the rows. to keep this random shuffle constant for all of\n",
    "# us we use the random state parametere\n",
    "x_train,x_test,y_train,y_test = train_test_split(x,y,test_size=0.2,\n",
    "                                                random_state=0)\n",
    "print(x.shape)\n",
    "print(y.shape)\n",
    "print(x_train.shape)\n",
    "print(x_test.shape)\n",
    "print(y_train.shape)\n",
    "print(y_test.shape)"
   ]
  },
  {
   "cell_type": "markdown",
   "metadata": {},
   "source": [
    "#### Build the linear regression Model"
   ]
  },
  {
   "cell_type": "code",
   "execution_count": 16,
   "metadata": {},
   "outputs": [
    {
     "data": {
      "text/plain": [
       "LinearRegression(copy_X=True, fit_intercept=True, n_jobs=None,\n",
       "         normalize=False)"
      ]
     },
     "execution_count": 16,
     "metadata": {},
     "output_type": "execute_result"
    }
   ],
   "source": [
    "model=linear_model.LinearRegression()\n",
    "model.fit(x_train,y_train)"
   ]
  },
  {
   "cell_type": "code",
   "execution_count": 17,
   "metadata": {},
   "outputs": [
    {
     "data": {
      "text/plain": [
       "array([3295.54902623])"
      ]
     },
     "execution_count": 17,
     "metadata": {},
     "output_type": "execute_result"
    }
   ],
   "source": [
    "model.coef_"
   ]
  },
  {
   "cell_type": "code",
   "execution_count": 18,
   "metadata": {},
   "outputs": [
    {
     "data": {
      "text/plain": [
       "-6500298.630920932"
      ]
     },
     "execution_count": 18,
     "metadata": {},
     "output_type": "execute_result"
    }
   ],
   "source": [
    "model.intercept_"
   ]
  },
  {
   "cell_type": "code",
   "execution_count": 19,
   "metadata": {},
   "outputs": [
    {
     "data": {
      "text/plain": [
       "array([255576.87285741])"
      ]
     },
     "execution_count": 19,
     "metadata": {},
     "output_type": "execute_result"
    }
   ],
   "source": [
    "model.predict([[2050]])"
   ]
  },
  {
   "cell_type": "code",
   "execution_count": 20,
   "metadata": {},
   "outputs": [
    {
     "data": {
      "text/plain": [
       "255576.87285056803"
      ]
     },
     "execution_count": 20,
     "metadata": {},
     "output_type": "execute_result"
    }
   ],
   "source": [
    "3295.54902623*2050-6500298.630920932"
   ]
  },
  {
   "cell_type": "code",
   "execution_count": 21,
   "metadata": {},
   "outputs": [
    {
     "data": {
      "text/plain": [
       "array([146823.75499171])"
      ]
     },
     "execution_count": 21,
     "metadata": {},
     "output_type": "execute_result"
    }
   ],
   "source": [
    "model.predict([[2017]])"
   ]
  },
  {
   "cell_type": "code",
   "execution_count": 22,
   "metadata": {},
   "outputs": [
    {
     "data": {
      "text/html": [
       "<div>\n",
       "<style scoped>\n",
       "    .dataframe tbody tr th:only-of-type {\n",
       "        vertical-align: middle;\n",
       "    }\n",
       "\n",
       "    .dataframe tbody tr th {\n",
       "        vertical-align: top;\n",
       "    }\n",
       "\n",
       "    .dataframe thead th {\n",
       "        text-align: right;\n",
       "    }\n",
       "</style>\n",
       "<table border=\"1\" class=\"dataframe\">\n",
       "  <thead>\n",
       "    <tr style=\"text-align: right;\">\n",
       "      <th></th>\n",
       "      <th>Years</th>\n",
       "      <th>Total Number of Persons Killed (in numbers)</th>\n",
       "    </tr>\n",
       "  </thead>\n",
       "  <tbody>\n",
       "    <tr>\n",
       "      <th>23</th>\n",
       "      <td>2014</td>\n",
       "      <td>139671.0</td>\n",
       "    </tr>\n",
       "    <tr>\n",
       "      <th>24</th>\n",
       "      <td>2015</td>\n",
       "      <td>146133.0</td>\n",
       "    </tr>\n",
       "    <tr>\n",
       "      <th>25</th>\n",
       "      <td>2016</td>\n",
       "      <td>150785.0</td>\n",
       "    </tr>\n",
       "    <tr>\n",
       "      <th>26</th>\n",
       "      <td>2017</td>\n",
       "      <td>147913.0</td>\n",
       "    </tr>\n",
       "    <tr>\n",
       "      <th>27</th>\n",
       "      <td>2018</td>\n",
       "      <td>151417.0</td>\n",
       "    </tr>\n",
       "  </tbody>\n",
       "</table>\n",
       "</div>"
      ],
      "text/plain": [
       "   Years  Total Number of Persons Killed (in numbers)\n",
       "23  2014                                     139671.0\n",
       "24  2015                                     146133.0\n",
       "25  2016                                     150785.0\n",
       "26  2017                                     147913.0\n",
       "27  2018                                     151417.0"
      ]
     },
     "execution_count": 22,
     "metadata": {},
     "output_type": "execute_result"
    }
   ],
   "source": [
    "mdf.tail()"
   ]
  },
  {
   "cell_type": "markdown",
   "metadata": {},
   "source": [
    "#### Calculate the errors (MAE, MSE, RMSE, R2 Score)"
   ]
  },
  {
   "cell_type": "code",
   "execution_count": 23,
   "metadata": {},
   "outputs": [],
   "source": [
    "y_pred = model.predict(x_test)"
   ]
  },
  {
   "cell_type": "code",
   "execution_count": 24,
   "metadata": {},
   "outputs": [],
   "source": [
    "# predicting the output and calculating the errors\n",
    "from sklearn.metrics import mean_absolute_error,mean_squared_error,r2_score\n",
    "mae = mean_absolute_error(y_test,y_pred)\n",
    "mse = mean_squared_error(y_test,y_pred)\n",
    "rmse = np.sqrt(mse)\n",
    "r2 = r2_score(y_test,y_pred)"
   ]
  },
  {
   "cell_type": "code",
   "execution_count": 25,
   "metadata": {},
   "outputs": [
    {
     "name": "stdout",
     "output_type": "stream",
     "text": [
      "6391.411726157491\n",
      "59779316.51477196\n",
      "7731.708512015437\n",
      "0.9223722305876109\n"
     ]
    }
   ],
   "source": [
    "print(mae)\n",
    "print(mse)\n",
    "print(rmse)\n",
    "print(r2)"
   ]
  },
  {
   "cell_type": "code",
   "execution_count": 26,
   "metadata": {},
   "outputs": [
    {
     "data": {
      "text/plain": [
       "Text(0, 0.5, 'No of People Died')"
      ]
     },
     "execution_count": 26,
     "metadata": {},
     "output_type": "execute_result"
    },
    {
     "data": {
      "image/png": "[encoded data removed]",
      "text/plain": [
       "<Figure size 432x288 with 1 Axes>"
      ]
     },
     "metadata": {
      "needs_background": "light"
     },
     "output_type": "display_data"
    }
   ],
   "source": [
    "plt.scatter(mdf.Years,mdf[['Total Number of Persons Killed (in numbers)']],c='red')\n",
    "plt.plot(mdf.Years,model.predict(mdf[['Years']]),c='b')\n",
    "plt.title(\"Years wise people died in Road Accident\")\n",
    "plt.xlabel(\"Years\")\n",
    "plt.ylabel(\"No of People Died\")"
   ]
  },
  {
   "cell_type": "code",
   "execution_count": 27,
   "metadata": {},
   "outputs": [
    {
     "data": {
      "text/plain": [
       "414.84109589041094"
      ]
     },
     "execution_count": 27,
     "metadata": {},
     "output_type": "execute_result"
    }
   ],
   "source": [
    "151417/365"
   ]
  },
  {
   "cell_type": "code",
   "execution_count": null,
   "metadata": {},
   "outputs": [],
   "source": []
  }
 ],
 "metadata": {
  "kernelspec": {
   "display_name": "Python 3",
   "language": "python",
   "name": "python3"
  },
  "language_info": {
   "codemirror_mode": {
    "name": "ipython",
    "version": 3
   },
   "file_extension": ".py",
   "mimetype": "text/x-python",
   "name": "python",
   "nbconvert_exporter": "python",
   "pygments_lexer": "ipython3",
   "version": "3.6.4"
  }
 },
 "nbformat": 4,
 "nbformat_minor": 2
}
